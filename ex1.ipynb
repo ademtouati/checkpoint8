{
 "cells": [
  {
   "cell_type": "code",
   "execution_count": null,
   "id": "8c3a2fc9",
   "metadata": {},
   "outputs": [],
   "source": [
    "import requests\n",
    "from bs4 import BeautifulSoup"
   ]
  },
  {
   "cell_type": "code",
   "execution_count": null,
   "id": "8fdb4f38",
   "metadata": {},
   "outputs": [],
   "source": [
    "url = \"https://en.wikipedia.org/wiki/Python_(programming_language)\"\n",
    "def wikibot(url):\n",
    "    page = requests.get(url)\n",
    "    soup = BeautifulSoup(page.content, 'html.parser')\n",
    "    for url  in soup.find_all(\"p\"):\n",
    "        for url in soup.find_all('a'):\n",
    "            print(url.get('href'))\n",
    "            print(soup.get_text())\n",
    "            print(soup.prettify())\n",
    "            print(soup.find(\"span\",{\"class\":\"mw-page-title-main\"}).get_text())\n",
    "wikibot(url)"
   ]
  }
 ],
 "metadata": {
  "kernelspec": {
   "display_name": "Python 3 (ipykernel)",
   "language": "python",
   "name": "python3"
  },
  "language_info": {
   "codemirror_mode": {
    "name": "ipython",
    "version": 3
   },
   "file_extension": ".py",
   "mimetype": "text/x-python",
   "name": "python",
   "nbconvert_exporter": "python",
   "pygments_lexer": "ipython3",
   "version": "3.9.12"
  }
 },
 "nbformat": 4,
 "nbformat_minor": 5
}
